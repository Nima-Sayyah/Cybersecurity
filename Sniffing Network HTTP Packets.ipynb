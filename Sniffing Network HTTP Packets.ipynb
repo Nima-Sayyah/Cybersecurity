{
 "cells": [
  {
   "cell_type": "markdown",
   "id": "757c4a39",
   "metadata": {},
   "source": [
    "# Sniffing Network HTTP Packets \n",
    "### by Nima Sayyah"
   ]
  },
  {
   "cell_type": "code",
   "execution_count": 2,
   "id": "e72bc22d",
   "metadata": {},
   "outputs": [
    {
     "ename": "ModuleNotFoundError",
     "evalue": "No module named 'scapy'",
     "output_type": "error",
     "traceback": [
      "\u001b[0;31m---------------------------------------------------------------------------\u001b[0m",
      "\u001b[0;31mModuleNotFoundError\u001b[0m                       Traceback (most recent call last)",
      "\u001b[0;32m<ipython-input-2-8512312ef60b>\u001b[0m in \u001b[0;36m<module>\u001b[0;34m\u001b[0m\n\u001b[0;32m----> 1\u001b[0;31m \u001b[0;32mfrom\u001b[0m \u001b[0mscapy\u001b[0m\u001b[0;34m.\u001b[0m\u001b[0mall\u001b[0m \u001b[0;32mimport\u001b[0m \u001b[0;34m*\u001b[0m\u001b[0;34m\u001b[0m\u001b[0;34m\u001b[0m\u001b[0m\n\u001b[0m",
      "\u001b[0;31mModuleNotFoundError\u001b[0m: No module named 'scapy'"
     ]
    }
   ],
   "source": [
    "from scapy.all import *"
   ]
  },
  {
   "cell_type": "code",
   "execution_count": null,
   "id": "29a5a1d6",
   "metadata": {},
   "outputs": [],
   "source": [
    "from scapy.layers.http import HTTPRequest"
   ]
  },
  {
   "cell_type": "code",
   "execution_count": null,
   "id": "35a5d8b0",
   "metadata": {},
   "outputs": [],
   "source": [
    "from colorama import init, Fore"
   ]
  },
  {
   "cell_type": "code",
   "execution_count": null,
   "id": "f5a2109c",
   "metadata": {},
   "outputs": [],
   "source": [
    "init()"
   ]
  },
  {
   "cell_type": "code",
   "execution_count": null,
   "id": "6e375a17",
   "metadata": {},
   "outputs": [],
   "source": [
    "GREEN = Fore.GREEN\n",
    "RED   = Fore.RED\n",
    "RESET = Fore.RESET"
   ]
  },
  {
   "cell_type": "code",
   "execution_count": null,
   "id": "ae755c81",
   "metadata": {},
   "outputs": [],
   "source": [
    "def sniff_packets(iface=None):\n",
    "     \n",
    "        if iface:\n",
    "        \n",
    "        sniff(filter=\"port 80\", prn=process_packet, iface=iface, store=False)\n",
    "    else:\n",
    "        \n",
    "        sniff(filter=\"port 80\", prn=process_packet, store=False)"
   ]
  },
  {
   "cell_type": "code",
   "execution_count": null,
   "id": "3636913d",
   "metadata": {},
   "outputs": [],
   "source": [
    "def process_packet(packet):\n",
    "    \"\"\"\n",
    "    This function is executed whenever a packet is sniffed\n",
    "    \"\"\"\n",
    "    if packet.haslayer(HTTPRequest):\n",
    "        # if this packet is an HTTP Request\n",
    "        # get the requested URL\n",
    "        url = packet[HTTPRequest].Host.decode() + packet[HTTPRequest].Path.decode()"
   ]
  }
 ],
 "metadata": {
  "kernelspec": {
   "display_name": "Python 3",
   "language": "python",
   "name": "python3"
  },
  "language_info": {
   "codemirror_mode": {
    "name": "ipython",
    "version": 3
   },
   "file_extension": ".py",
   "mimetype": "text/x-python",
   "name": "python",
   "nbconvert_exporter": "python",
   "pygments_lexer": "ipython3",
   "version": "3.8.8"
  }
 },
 "nbformat": 4,
 "nbformat_minor": 5
}
