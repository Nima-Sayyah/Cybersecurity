{
 "cells": [
  {
   "cell_type": "markdown",
   "id": "757c4a39",
   "metadata": {},
   "source": [
    "# Sniffing Network HTTP Packets \n",
    "### by Nima Sayyah"
   ]
  },
  {
   "cell_type": "code",
   "execution_count": 8,
   "id": "ffdedc35",
   "metadata": {},
   "outputs": [
    {
     "name": "stderr",
     "output_type": "stream",
     "text": [
      "WARNING: No IPv4 address found on en1 !\n",
      "WARNING: No IPv4 address found on en2 !\n",
      "WARNING: more No IPv4 address found on bridge0 !\n"
     ]
    }
   ],
   "source": [
    "from scapy import *\n",
    "from scapy.all import *\n",
    "from scapy.layers.http import HTTPRequest\n",
    "from colorama import init, Fore\n",
    "init()"
   ]
  },
  {
   "cell_type": "code",
   "execution_count": 9,
   "id": "29a5a1d6",
   "metadata": {},
   "outputs": [],
   "source": [
    "GREEN = Fore.GREEN\n",
    "RED   = Fore.RED\n",
    "RESET = Fore.RESET"
   ]
  },
  {
   "cell_type": "code",
   "execution_count": 10,
   "id": "cabb6d96",
   "metadata": {},
   "outputs": [],
   "source": [
    "def sniff_packets(iface=None):\n",
    "    \n",
    "    if iface:\n",
    "        sniff(filter=\"port 80\", prn=process_packet, iface=iface, store=False)\n",
    "    else:\n",
    "        sniff(filter=\"port 80\", prn=process_packet, store=False)"
   ]
  },
  {
   "cell_type": "code",
   "execution_count": 11,
   "id": "23f9018e",
   "metadata": {},
   "outputs": [],
   "source": [
    "def process_packet(packet):\n",
    "    \"\"\"\n",
    "    This function is executed whenever a packet is sniffed\n",
    "    \"\"\"\n",
    "    if packet.haslayer(HTTPRequest):\n",
    "        \n",
    "        url = packet[HTTPRequest].Host.decode() + packet[HTTPRequest].Path.decode()\n",
    "        ip = packet[IP].src\n",
    "        method = packet[HTTPRequest].Method.decode()\n",
    "        print(f\"\\n{GREEN}[+] {ip} Requested {url} with {method}{RESET}\")\n",
    "        if show_raw and packet.haslayer(Raw) and method == \"POST\":\n",
    "            print(f\"\\n{RED}[*] Some useful Raw data: {packet[Raw].load}{RESET}\")"
   ]
  }
 ],
 "metadata": {
  "kernelspec": {
   "display_name": "Python 3 (ipykernel)",
   "language": "python",
   "name": "python3"
  },
  "language_info": {
   "codemirror_mode": {
    "name": "ipython",
    "version": 3
   },
   "file_extension": ".py",
   "mimetype": "text/x-python",
   "name": "python",
   "nbconvert_exporter": "python",
   "pygments_lexer": "ipython3",
   "version": "3.9.0"
  }
 },
 "nbformat": 4,
 "nbformat_minor": 5
}
