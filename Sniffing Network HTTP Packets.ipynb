{
 "cells": [
  {
   "cell_type": "markdown",
   "id": "757c4a39",
   "metadata": {},
   "source": [
    "# Sniffing Network HTTP Packets \n",
    "### by Nima Sayyah"
   ]
  },
  {
   "cell_type": "code",
   "execution_count": 1,
   "id": "ffdedc35",
   "metadata": {},
   "outputs": [
    {
     "name": "stderr",
     "output_type": "stream",
     "text": [
      "WARNING: No IPv4 address found on en1 !\n",
      "WARNING: No IPv4 address found on en2 !\n",
      "WARNING: more No IPv4 address found on bridge0 !\n"
     ]
    }
   ],
   "source": [
    "from scapy import *\n",
    "from scapy.all import *\n",
    "\n",
    "# To import HTTP packets\n",
    "from scapy.layers.http import HTTPRequest\n",
    "from colorama import init, Fore\n",
    "\n",
    "# Initialising colorama\n",
    "init()"
   ]
  },
  {
   "cell_type": "code",
   "execution_count": 2,
   "id": "29a5a1d6",
   "metadata": {},
   "outputs": [],
   "source": [
    "# Setting the colours\n",
    "GREEN = Fore.GREEN\n",
    "RED   = Fore.RED\n",
    "RESET = Fore.RESET"
   ]
  },
  {
   "cell_type": "code",
   "execution_count": 4,
   "id": "4c0b3cdd",
   "metadata": {},
   "outputs": [
    {
     "ename": "Scapy_Exception",
     "evalue": "Permission denied: could not open /dev/bpf0. Make sure to be running Scapy as root ! (sudo)",
     "output_type": "error",
     "traceback": [
      "\u001b[0;31m---------------------------------------------------------------------------\u001b[0m",
      "\u001b[0;31mPermissionError\u001b[0m                           Traceback (most recent call last)",
      "File \u001b[0;32m~/.local/share/virtualenvs/Sniffing_Network_HTTP_Packets-lXqGhkQq/lib/python3.9/site-packages/scapy/arch/bpf/core.py:136\u001b[0m, in \u001b[0;36mget_dev_bpf\u001b[0;34m()\u001b[0m\n\u001b[1;32m    135\u001b[0m \u001b[38;5;28;01mtry\u001b[39;00m:\n\u001b[0;32m--> 136\u001b[0m     fd \u001b[38;5;241m=\u001b[39m \u001b[43mos\u001b[49m\u001b[38;5;241;43m.\u001b[39;49m\u001b[43mopen\u001b[49m\u001b[43m(\u001b[49m\u001b[38;5;124;43m\"\u001b[39;49m\u001b[38;5;124;43m/dev/bpf\u001b[39;49m\u001b[38;5;132;43;01m%i\u001b[39;49;00m\u001b[38;5;124;43m\"\u001b[39;49m\u001b[43m \u001b[49m\u001b[38;5;241;43m%\u001b[39;49m\u001b[43m \u001b[49m\u001b[43mbpf\u001b[49m\u001b[43m,\u001b[49m\u001b[43m \u001b[49m\u001b[43mos\u001b[49m\u001b[38;5;241;43m.\u001b[39;49m\u001b[43mO_RDWR\u001b[49m\u001b[43m)\u001b[49m\n\u001b[1;32m    137\u001b[0m     \u001b[38;5;28;01mreturn\u001b[39;00m (fd, bpf)\n",
      "\u001b[0;31mPermissionError\u001b[0m: [Errno 13] Permission denied: '/dev/bpf0'",
      "\nDuring handling of the above exception, another exception occurred:\n",
      "\u001b[0;31mScapy_Exception\u001b[0m                           Traceback (most recent call last)",
      "Input \u001b[0;32mIn [4]\u001b[0m, in \u001b[0;36m<cell line: 1>\u001b[0;34m()\u001b[0m\n\u001b[0;32m----> 1\u001b[0m nima\u001b[38;5;241m=\u001b[39m\u001b[43msniff\u001b[49m\u001b[43m(\u001b[49m\u001b[43mcount\u001b[49m\u001b[38;5;241;43m=\u001b[39;49m\u001b[38;5;241;43m1\u001b[39;49m\u001b[43m)\u001b[49m\n",
      "File \u001b[0;32m~/.local/share/virtualenvs/Sniffing_Network_HTTP_Packets-lXqGhkQq/lib/python3.9/site-packages/scapy/sendrecv.py:1263\u001b[0m, in \u001b[0;36msniff\u001b[0;34m(*args, **kwargs)\u001b[0m\n\u001b[1;32m   1259\u001b[0m \u001b[38;5;129m@conf\u001b[39m\u001b[38;5;241m.\u001b[39mcommands\u001b[38;5;241m.\u001b[39mregister\n\u001b[1;32m   1260\u001b[0m \u001b[38;5;28;01mdef\u001b[39;00m \u001b[38;5;21msniff\u001b[39m(\u001b[38;5;241m*\u001b[39margs, \u001b[38;5;241m*\u001b[39m\u001b[38;5;241m*\u001b[39mkwargs):\n\u001b[1;32m   1261\u001b[0m     \u001b[38;5;66;03m# type: (*Any, **Any) -> PacketList\u001b[39;00m\n\u001b[1;32m   1262\u001b[0m     sniffer \u001b[38;5;241m=\u001b[39m AsyncSniffer()\n\u001b[0;32m-> 1263\u001b[0m     \u001b[43msniffer\u001b[49m\u001b[38;5;241;43m.\u001b[39;49m\u001b[43m_run\u001b[49m\u001b[43m(\u001b[49m\u001b[38;5;241;43m*\u001b[39;49m\u001b[43margs\u001b[49m\u001b[43m,\u001b[49m\u001b[43m \u001b[49m\u001b[38;5;241;43m*\u001b[39;49m\u001b[38;5;241;43m*\u001b[39;49m\u001b[43mkwargs\u001b[49m\u001b[43m)\u001b[49m\n\u001b[1;32m   1264\u001b[0m     \u001b[38;5;28;01mreturn\u001b[39;00m cast(PacketList, sniffer\u001b[38;5;241m.\u001b[39mresults)\n",
      "File \u001b[0;32m~/.local/share/virtualenvs/Sniffing_Network_HTTP_Packets-lXqGhkQq/lib/python3.9/site-packages/scapy/sendrecv.py:1127\u001b[0m, in \u001b[0;36mAsyncSniffer._run\u001b[0;34m(self, count, store, offline, quiet, prn, lfilter, L2socket, timeout, opened_socket, stop_filter, iface, started_callback, session, session_kwargs, **karg)\u001b[0m\n\u001b[1;32m   1121\u001b[0m         sniff_sockets\u001b[38;5;241m.\u001b[39mupdate(\n\u001b[1;32m   1122\u001b[0m             (L2socket(\u001b[38;5;28mtype\u001b[39m\u001b[38;5;241m=\u001b[39mETH_P_ALL, iface\u001b[38;5;241m=\u001b[39mifname, \u001b[38;5;241m*\u001b[39m\u001b[38;5;241m*\u001b[39mkarg),\n\u001b[1;32m   1123\u001b[0m              iflabel)\n\u001b[1;32m   1124\u001b[0m             \u001b[38;5;28;01mfor\u001b[39;00m ifname, iflabel \u001b[38;5;129;01min\u001b[39;00m six\u001b[38;5;241m.\u001b[39miteritems(iface)\n\u001b[1;32m   1125\u001b[0m         )\n\u001b[1;32m   1126\u001b[0m     \u001b[38;5;28;01melse\u001b[39;00m:\n\u001b[0;32m-> 1127\u001b[0m         sniff_sockets[\u001b[43mL2socket\u001b[49m\u001b[43m(\u001b[49m\u001b[38;5;28;43mtype\u001b[39;49m\u001b[38;5;241;43m=\u001b[39;49m\u001b[43mETH_P_ALL\u001b[49m\u001b[43m,\u001b[49m\u001b[43m \u001b[49m\u001b[43miface\u001b[49m\u001b[38;5;241;43m=\u001b[39;49m\u001b[43miface\u001b[49m\u001b[43m,\u001b[49m\n\u001b[1;32m   1128\u001b[0m \u001b[43m                               \u001b[49m\u001b[38;5;241;43m*\u001b[39;49m\u001b[38;5;241;43m*\u001b[39;49m\u001b[43mkarg\u001b[49m\u001b[43m)\u001b[49m] \u001b[38;5;241m=\u001b[39m iface\n\u001b[1;32m   1130\u001b[0m \u001b[38;5;66;03m# Get select information from the sockets\u001b[39;00m\n\u001b[1;32m   1131\u001b[0m _main_socket \u001b[38;5;241m=\u001b[39m \u001b[38;5;28mnext\u001b[39m(\u001b[38;5;28miter\u001b[39m(sniff_sockets))\n",
      "File \u001b[0;32m~/.local/share/virtualenvs/Sniffing_Network_HTTP_Packets-lXqGhkQq/lib/python3.9/site-packages/scapy/arch/bpf/supersocket.py:254\u001b[0m, in \u001b[0;36mL2bpfListenSocket.__init__\u001b[0;34m(self, *args, **kwargs)\u001b[0m\n\u001b[1;32m    252\u001b[0m \u001b[38;5;28;01mdef\u001b[39;00m \u001b[38;5;21m__init__\u001b[39m(\u001b[38;5;28mself\u001b[39m, \u001b[38;5;241m*\u001b[39margs, \u001b[38;5;241m*\u001b[39m\u001b[38;5;241m*\u001b[39mkwargs):\n\u001b[1;32m    253\u001b[0m     \u001b[38;5;28mself\u001b[39m\u001b[38;5;241m.\u001b[39mreceived_frames \u001b[38;5;241m=\u001b[39m []\n\u001b[0;32m--> 254\u001b[0m     \u001b[38;5;28;43msuper\u001b[39;49m\u001b[43m(\u001b[49m\u001b[43mL2bpfListenSocket\u001b[49m\u001b[43m,\u001b[49m\u001b[43m \u001b[49m\u001b[38;5;28;43mself\u001b[39;49m\u001b[43m)\u001b[49m\u001b[38;5;241;43m.\u001b[39;49m\u001b[38;5;21;43m__init__\u001b[39;49m\u001b[43m(\u001b[49m\u001b[38;5;241;43m*\u001b[39;49m\u001b[43margs\u001b[49m\u001b[43m,\u001b[49m\u001b[43m \u001b[49m\u001b[38;5;241;43m*\u001b[39;49m\u001b[38;5;241;43m*\u001b[39;49m\u001b[43mkwargs\u001b[49m\u001b[43m)\u001b[49m\n",
      "File \u001b[0;32m~/.local/share/virtualenvs/Sniffing_Network_HTTP_Packets-lXqGhkQq/lib/python3.9/site-packages/scapy/arch/bpf/supersocket.py:62\u001b[0m, in \u001b[0;36m_L2bpfSocket.__init__\u001b[0;34m(self, iface, type, promisc, filter, nofilter, monitor)\u001b[0m\n\u001b[1;32m     60\u001b[0m \u001b[38;5;66;03m# Get the BPF handle\u001b[39;00m\n\u001b[1;32m     61\u001b[0m \u001b[38;5;28mself\u001b[39m\u001b[38;5;241m.\u001b[39mins \u001b[38;5;241m=\u001b[39m \u001b[38;5;28;01mNone\u001b[39;00m\n\u001b[0;32m---> 62\u001b[0m (\u001b[38;5;28mself\u001b[39m\u001b[38;5;241m.\u001b[39mins, \u001b[38;5;28mself\u001b[39m\u001b[38;5;241m.\u001b[39mdev_bpf) \u001b[38;5;241m=\u001b[39m \u001b[43mget_dev_bpf\u001b[49m\u001b[43m(\u001b[49m\u001b[43m)\u001b[49m\n\u001b[1;32m     63\u001b[0m \u001b[38;5;28mself\u001b[39m\u001b[38;5;241m.\u001b[39mouts \u001b[38;5;241m=\u001b[39m \u001b[38;5;28mself\u001b[39m\u001b[38;5;241m.\u001b[39mins\n\u001b[1;32m     65\u001b[0m \u001b[38;5;66;03m# Set the BPF buffer length\u001b[39;00m\n",
      "File \u001b[0;32m~/.local/share/virtualenvs/Sniffing_Network_HTTP_Packets-lXqGhkQq/lib/python3.9/site-packages/scapy/arch/bpf/core.py:140\u001b[0m, in \u001b[0;36mget_dev_bpf\u001b[0;34m()\u001b[0m\n\u001b[1;32m    138\u001b[0m     \u001b[38;5;28;01mexcept\u001b[39;00m \u001b[38;5;167;01mOSError\u001b[39;00m \u001b[38;5;28;01mas\u001b[39;00m ex:\n\u001b[1;32m    139\u001b[0m         \u001b[38;5;28;01mif\u001b[39;00m ex\u001b[38;5;241m.\u001b[39merrno \u001b[38;5;241m==\u001b[39m \u001b[38;5;241m13\u001b[39m:  \u001b[38;5;66;03m# Permission denied\u001b[39;00m\n\u001b[0;32m--> 140\u001b[0m             \u001b[38;5;28;01mraise\u001b[39;00m Scapy_Exception((\n\u001b[1;32m    141\u001b[0m                 \u001b[38;5;124m\"\u001b[39m\u001b[38;5;124mPermission denied: could not open /dev/bpf\u001b[39m\u001b[38;5;132;01m%i\u001b[39;00m\u001b[38;5;124m. \u001b[39m\u001b[38;5;124m\"\u001b[39m\n\u001b[1;32m    142\u001b[0m                 \u001b[38;5;124m\"\u001b[39m\u001b[38;5;124mMake sure to be running Scapy as root ! (sudo)\u001b[39m\u001b[38;5;124m\"\u001b[39m\n\u001b[1;32m    143\u001b[0m             ) \u001b[38;5;241m%\u001b[39m bpf)\n\u001b[1;32m    144\u001b[0m         \u001b[38;5;28;01mcontinue\u001b[39;00m\n\u001b[1;32m    146\u001b[0m \u001b[38;5;28;01mraise\u001b[39;00m Scapy_Exception(\u001b[38;5;124m\"\u001b[39m\u001b[38;5;124mNo /dev/bpf handle is available !\u001b[39m\u001b[38;5;124m\"\u001b[39m)\n",
      "\u001b[0;31mScapy_Exception\u001b[0m: Permission denied: could not open /dev/bpf0. Make sure to be running Scapy as root ! (sudo)"
     ]
    }
   ],
   "source": [
    "nima=sniff(count=1)"
   ]
  },
  {
   "cell_type": "code",
   "execution_count": 10,
   "id": "cabb6d96",
   "metadata": {},
   "outputs": [],
   "source": [
    "def sniff_packets(iface=None):\n",
    "    \n",
    "    if iface:\n",
    "        sniff(filter=\"port 80\", prn=process_packet, iface=iface, store=False)\n",
    "    else:\n",
    "        sniff(filter=\"port 80\", prn=process_packet, store=False)"
   ]
  },
  {
   "cell_type": "code",
   "execution_count": 11,
   "id": "23f9018e",
   "metadata": {},
   "outputs": [],
   "source": [
    "def process_packet(packet):\n",
    "    \"\"\"\n",
    "    This function is executed whenever a packet is sniffed\n",
    "    \"\"\"\n",
    "    if packet.haslayer(HTTPRequest):\n",
    "        \n",
    "        url = packet[HTTPRequest].Host.decode() + packet[HTTPRequest].Path.decode()\n",
    "        ip = packet[IP].src\n",
    "        method = packet[HTTPRequest].Method.decode()\n",
    "        print(f\"\\n{GREEN}[+] {ip} Requested {url} with {method}{RESET}\")\n",
    "        if show_raw and packet.haslayer(Raw) and method == \"POST\":\n",
    "            print(f\"\\n{RED}[*] Some useful Raw data: {packet[Raw].load}{RESET}\")"
   ]
  }
 ],
 "metadata": {
  "kernelspec": {
   "display_name": "Python 3 (ipykernel)",
   "language": "python",
   "name": "python3"
  },
  "language_info": {
   "codemirror_mode": {
    "name": "ipython",
    "version": 3
   },
   "file_extension": ".py",
   "mimetype": "text/x-python",
   "name": "python",
   "nbconvert_exporter": "python",
   "pygments_lexer": "ipython3",
   "version": "3.9.0"
  }
 },
 "nbformat": 4,
 "nbformat_minor": 5
}
